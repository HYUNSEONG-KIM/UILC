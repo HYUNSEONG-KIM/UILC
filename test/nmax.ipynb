{
 "cells": [
  {
   "cell_type": "code",
   "execution_count": 1,
   "metadata": {},
   "outputs": [],
   "source": [
    "from mpmath import hyp2f1"
   ]
  },
  {
   "cell_type": "code",
   "execution_count": 57,
   "metadata": {},
   "outputs": [],
   "source": [
    "def nmax_k(k, s, alpha):\n",
    "    a = 1/2\n",
    "    b= s/2+1\n",
    "    c = 3/2\n",
    "    return (k+1)/ hyp2f1(a, b, c, -alpha**2)\n",
    "def nmax_kn(k, s, alpha, n):\n",
    "    a = 1/2\n",
    "    b= s/2+1\n",
    "    c = 3/2\n",
    "    return (k+hyp2f1(a, b, c, -(alpha/n)**2))/ hyp2f1(a, b, c, -alpha**2)\n"
   ]
  },
  {
   "cell_type": "code",
   "execution_count": 58,
   "metadata": {},
   "outputs": [],
   "source": [
    "from matplotlib import pyplot as plt\n",
    "import numpy as np"
   ]
  },
  {
   "cell_type": "code",
   "execution_count": 59,
   "metadata": {},
   "outputs": [],
   "source": [
    "s = 10\n",
    "alpha = 3\n",
    "H = 3\n",
    "W = alpha*H"
   ]
  },
  {
   "cell_type": "code",
   "execution_count": 60,
   "metadata": {},
   "outputs": [],
   "source": [
    "import os, sys\n",
    "sys.path.insert(1, os.getcwd()) \n",
    "sys.path.append(\"..\")\n",
    "from uilc.methods.pw import nmax"
   ]
  },
  {
   "cell_type": "code",
   "execution_count": 61,
   "metadata": {},
   "outputs": [
    {
     "data": {
      "text/plain": [
       "11"
      ]
     },
     "execution_count": 61,
     "metadata": {},
     "output_type": "execute_result"
    }
   ],
   "source": [
    "nmax(s, W, H)"
   ]
  },
  {
   "cell_type": "code",
   "execution_count": 78,
   "metadata": {},
   "outputs": [],
   "source": [
    "s = 130\n",
    "alpha = 2\n",
    "H = 3\n",
    "W = alpha*H"
   ]
  },
  {
   "cell_type": "code",
   "execution_count": 79,
   "metadata": {},
   "outputs": [
    {
     "name": "stdout",
     "output_type": "stream",
     "text": [
      "real: \t23\n",
      "2: \t54.6887707145064\n",
      "1/2: \t27.3443853572532\n",
      "1/2: \t24.7216001831979\n"
     ]
    }
   ],
   "source": [
    "n = nmax(s, W, H)\n",
    "print(f\"real: \\t{nmax(s, W, H)}\")\n",
    "print(f\"2: \\t{nmax_k(2, s, alpha)}\")\n",
    "print(f\"1/2: \\t{nmax_k(1/2, s, alpha)}\")\n",
    "print(f\"1/2: \\t{nmax_kn(1/2, s, alpha, n)}\")"
   ]
  },
  {
   "cell_type": "code",
   "execution_count": null,
   "metadata": {},
   "outputs": [],
   "source": []
  }
 ],
 "metadata": {
  "kernelspec": {
   "display_name": "uilc",
   "language": "python",
   "name": "python3"
  },
  "language_info": {
   "codemirror_mode": {
    "name": "ipython",
    "version": 3
   },
   "file_extension": ".py",
   "mimetype": "text/x-python",
   "name": "python",
   "nbconvert_exporter": "python",
   "pygments_lexer": "ipython3",
   "version": "3.10.4"
  },
  "orig_nbformat": 4,
  "vscode": {
   "interpreter": {
    "hash": "195bc89084d6cbe85b4b0fc9b0001b42e835d7f13938cce061bfbc6c7d4a005e"
   }
  }
 },
 "nbformat": 4,
 "nbformat_minor": 2
}
