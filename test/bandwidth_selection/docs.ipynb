{
 "cells": [
  {
   "attachments": {},
   "cell_type": "markdown",
   "metadata": {},
   "source": [
    "# Sheather and Jones method implementation on Scipy\n",
    "\n",
    "Reference:\n",
    "\n",
    "> Sheather, S. J. and Jones, M. C. (1991). A reliable data-based bandwidth selection method for kernel density estimation. Journal of the Royal Statistical Society series B, 53, 683–690. http://www.jstor.org/stable/2345597.\n",
    "\n",
    "There is an implementation in [KDEpy] package, however does not support 3.11 python version. There is a `longintrepr.h` including error in Cython."
   ]
  },
  {
   "cell_type": "code",
   "execution_count": 1,
   "metadata": {},
   "outputs": [],
   "source": [
    "from scipy import stats"
   ]
  },
  {
   "cell_type": "code",
   "execution_count": null,
   "metadata": {},
   "outputs": [],
   "source": [
    "# stats.gaussian_kde(data, be_method, weights)"
   ]
  },
  {
   "attachments": {},
   "cell_type": "markdown",
   "metadata": {},
   "source": [
    "```.python\n",
    "bw_methodstr, scalar or callable, optional\n",
    "\n",
    "    The method used to calculate the estimator bandwidth. This can be ‘scott’, ‘silverman’, a scalar constant or a callable. If a scalar, this will be used directly as kde.factor. If a callable, it should take a gaussian_kde instance as only parameter and return a scalar. If None (default), ‘scott’ is used. See Notes for more details.\n",
    "\n",
    "```"
   ]
  },
  {
   "attachments": {},
   "cell_type": "markdown",
   "metadata": {},
   "source": [
    "\n",
    "\n",
    "\n",
    "\n",
    "$n$ step bandwidth \n",
    "\n",
    "$$ t = \\zeta \\gamma^{[n]} (t) $$\n",
    "\n",
    "**Plug-in method**\n",
    "\n",
    "1. For a given integer $l >0$, estimate, ${}_*t_{l=1}$ via below equation and $||f^{l+2}||^2$ computed by assuming that $f$ is a normal density with mean and variance estimated from the data. Denote the etimate by ${}_*\\hat{t}_{l+1}$\n",
    "    $${}_*t_j = \\left(\\frac{1 +(1/2)^{j+0/5}}{3} \\frac{1 \\cdot 3 \\cdot 5 \\dots (2j-1)}{N \\sqrt{\\pi/2}||f^{j+1}||^2} \\right)^{2/(3+2j)}$$\n",
    "2. Use $_*\\hat{t}_{l+1}$ to estimate $||f^{(l+1)}||^2$ via the plug-in estimator below (1) and $_*\\hat{t}_l$ via (2). then use to estimate and so on until we obtain an estimate of $_*\\hat{t}_2$.\n",
    "    1. $${\\widehat{||f^{j}||}}^2 = \\frac{(-1)^j}{N} \\sum_{k=1}^N \\sum_{m=1}^N K^{(2j)} \\left( X_k, X_m ; 2t_j\\right)$$\n",
    "    2. $$_*\\hat{t}_j = \\left(\\frac{1 +(1/2)^{j+0/5}}{3} \\frac{1 \\cdot 3 \\cdot 5 \\dots (2j-1)}{N \\sqrt{\\pi/2}\\widehat{||f^{j+1}||}^2} \\right)^{2/(3+2j)}$$\n",
    "3. Use the estimate of $_*\\hat{t}_2$ to compute $_*\\hat{t}$ from \n",
    "    $$_*t = \\left( \\frac{1}{2N \\sqrt{\\pi} ||f\"||^2}\\right)^{2/5}$$"
   ]
  },
  {
   "attachments": {},
   "cell_type": "markdown",
   "metadata": {},
   "source": [
    "---\n",
    "\n",
    "$$\\zeta = \\left( \\frac{6\\sqrt{2}-3}{7}\\right)^{2/5} \\approx 0.90$$"
   ]
  },
  {
   "attachments": {},
   "cell_type": "markdown",
   "metadata": {},
   "source": [
    "Alg 1: Improved Sheather-Jones\n",
    "\n",
    "With given $l>2$ \n",
    "\n",
    "1. Initialize with $z_0 = \\epsilon$, where $\\epsilon$ is machine precision, and $n=0$;\n",
    "2. Set $z_{n+1} = \\zeta \\gamma^{[l]}(z_n)$\n",
    "3. If $|z_{n+1} - z_n|<\\epsilon$, stop and set $_*\\hat{t} = z_{n+1}$; otherwise, set $n:= n+1$ and repeat from step 2;\n",
    "4. Deliver the Gaussian kernel density estimator (eq 1) evaluated at $_*\\hat{t}$ as the final estimator of $f$, and $_*\\hat{t}_2 = \\gamma^{[l-1](z_{n+1})}$ as the bandwidth for the optimal estimation of $||f\"||^2$\n",
    "\n",
    "Authors recommend setting: $l=5$. There is no practical differnece by increasing the stages of the bandwidth selection rule beyond $l=5$."
   ]
  },
  {
   "cell_type": "code",
   "execution_count": 27,
   "metadata": {},
   "outputs": [],
   "source": [
    "float_eps = 5E-16"
   ]
  },
  {
   "cell_type": "code",
   "execution_count": 28,
   "metadata": {},
   "outputs": [],
   "source": [
    "import numpy as np\n",
    "import math\n",
    "\n",
    "def inline_cache(func):\n",
    "    cache= {}\n",
    "    def wrapper(n):\n",
    "        if n in cache:\n",
    "            return cache[n]\n",
    "        else:\n",
    "            cache[n] = func(n)\n",
    "            return cache[n]\n",
    "    return wrapper\n",
    "\n",
    "@inline_cache\n",
    "def factorial_odd(n):\n",
    "    return (2*n-1)*factorial_odd(n-1) if n >1 else 1"
   ]
  },
  {
   "cell_type": "code",
   "execution_count": 29,
   "metadata": {},
   "outputs": [],
   "source": [
    "const_ra = (2*math.sqrt(2*math.pi))\n",
    "def estimator_2nd(j, xarr, t):\n",
    "    N = xarr.size\n",
    "\n",
    "    X = np.repeat(xarr.reshape(-1, 1), N, axis=1)\n",
    "    r1 = np.exp(-((X-X.T)**2)/(2*t)).sum()\n",
    "    coef = (1 if j%2 == 0 else 1)/(N*N)\n",
    "\n",
    "    return coef*r1/(const_ra*t)"
   ]
  },
  {
   "cell_type": "code",
   "execution_count": 30,
   "metadata": {},
   "outputs": [
    {
     "data": {
      "text/plain": [
       "7.332518090188957"
      ]
     },
     "execution_count": 30,
     "metadata": {},
     "output_type": "execute_result"
    }
   ],
   "source": [
    "x = np.arange(5)\n",
    "X = np.repeat(x.reshape(-1, 1), x.size, axis=1)\n",
    "np.exp(-((X-X.T)**2)/(2*0.4)).sum()"
   ]
  },
  {
   "cell_type": "code",
   "execution_count": 31,
   "metadata": {},
   "outputs": [],
   "source": [
    "spi_const = math.sqrt(math.pi/2)\n",
    "def gamma(z_n, l, xarr):\n",
    "    N = xarr.size\n",
    "    j = 0\n",
    "    def sub_ep(j, t):\n",
    "        a_j = (1+math.pow(0.5,j+0.5))/3\n",
    "        b_j = factorial_odd(j)\n",
    "        c_j = N* spi_const\n",
    "        coef_j = a_j*b_j*c_j\n",
    "        return math.pow(coef_j/estimator_2nd(j, xarr, t), 2/(3+2*j))\n",
    "    z = z_n\n",
    "    for j in range(0, l):\n",
    "        z = sub_ep(l-j+1, z)\n",
    "    return z"
   ]
  },
  {
   "cell_type": "code",
   "execution_count": 55,
   "metadata": {},
   "outputs": [],
   "source": [
    "l =4\n",
    "z_n = 5E-16\n",
    "n =0\n",
    "zeta = 0.900000\n",
    "\n",
    "xarr = np.arange(20)# sample\n"
   ]
  },
  {
   "cell_type": "code",
   "execution_count": null,
   "metadata": {},
   "outputs": [],
   "source": [
    "z_n_1 = zeta * gamma(z_n, l, xarr)"
   ]
  },
  {
   "cell_type": "code",
   "execution_count": 61,
   "metadata": {},
   "outputs": [
    {
     "name": "stdout",
     "output_type": "stream",
     "text": [
      "z_n+1:9.60213316985734, eps:0.0\n",
      "True\n"
     ]
    }
   ],
   "source": [
    "z_n_1 = zeta * gamma(z_n, l, xarr)\n",
    "feps = math.fabs(z_n_1-z_n)\n",
    "print(f\"z_n+1:{z_n_1}, eps:{feps}\")\n",
    "print(f\"{feps<float_eps}\")\n",
    "z_n = z_n_1"
   ]
  },
  {
   "cell_type": "code",
   "execution_count": 401,
   "metadata": {},
   "outputs": [],
   "source": [
    "\n",
    "const_ra = (2*math.sqrt(2*math.pi))\n",
    "def estimator_2nd(j, xarr, t):\n",
    "    N = xarr.size\n",
    "\n",
    "    X = np.repeat(xarr.reshape(-1, 1), N, axis=1)\n",
    "    r1 = np.exp(-((X-X.T)/(2*t))**2).sum()\n",
    "    coef = (1 if j%2 == 0 else 1)/(N*N)\n",
    "\n",
    "    return coef*r1/(const_ra*t)\n",
    "spi_const = math.sqrt(math.pi/2)\n",
    "def gamma(z_n, l, xarr):\n",
    "    N = xarr.size\n",
    "    j = 0\n",
    "    def sub_ep(j, t):\n",
    "        a_j = (1+math.pow(0.5,j+0.5))/3\n",
    "        b_j = factorial_odd(j)\n",
    "        c_j = N* spi_const\n",
    "        coef_j = a_j*b_j*c_j\n",
    "        return math.pow(coef_j/estimator_2nd(j, xarr, t), 2/(3+2*j))\n",
    "    z = z_n\n",
    "    for j in range(0, l):\n",
    "        z = sub_ep(l-j+1, z)\n",
    "        \n",
    "    star_t = np.power((2*N*np.sqrt(np.pi)*z), -(0.4))\n",
    "    return star_t\n",
    "def isj_bandwidth(xarr, \n",
    "                  l=5, \n",
    "                  z0 = 5E-16, \n",
    "                  zeta = 0.90000,\n",
    "                  max_n = 7,\n",
    "                  eps = 5E-16):\n",
    "    z_n = z0\n",
    "    z_n_1 = 0\n",
    "    for i in range(2, max_n+1):\n",
    "        z_n_1 = zeta*gamma(z_n, l, xarr)\n",
    "        if math.fabs(z_n_1 - z_n) < z0:\n",
    "            break\n",
    "    return z_n_1\n",
    "\n"
   ]
  },
  {
   "cell_type": "code",
   "execution_count": 868,
   "metadata": {},
   "outputs": [],
   "source": [
    "from numpy.random import default_rng\n",
    "from matplotlib import pyplot as plt\n",
    "from scipy.optimize import brentq\n",
    "from scipy.stats import gaussian_kde\n",
    "from scipy.stats import norm\n",
    "def gaussian(x, center, sigma):\n",
    "    return (1/(sigma*math.sqrt(2 *math.pi)))*np.exp(-((x-center)/sigma)**2)\n",
    "def gaussian_s(x, centers, sigmas):\n",
    "    result = 0\n",
    "    for c,s in zip(centers, sigmas):\n",
    "        result +=gaussian(x, c, s)\n",
    "    return result\n",
    "rng = default_rng()\n",
    "\n",
    "from kdepy.bw_selection import improved_sheather_jones\n",
    "\n",
    "def dnorm(x):\n",
    "    return norm.pdf(x, 0, 1)\n",
    "\n",
    "def sj(x, h):\n",
    "    '''\n",
    "    Equation 12 of Sheather and Jones [1]_\n",
    "    References\n",
    "    ----------\n",
    "    .. [1] A reliable data-based bandwidth selection method for kernel\n",
    "        density estimation. Simon J. Sheather and Michael C. Jones.\n",
    "        Journal of the Royal Statistical Society, Series B. 1991\n",
    "    '''\n",
    "    phi6 = lambda t: (t ** 6 - 15 *t ** 4 + 45 * t ** 2 - 15) * dnorm(t)\n",
    "    phi4 = lambda t: (t ** 4 - 6 * t** 2 + 3) * dnorm(t)\n",
    "\n",
    "    n = len(x)\n",
    "    one = np.ones((1, n))\n",
    "\n",
    "    lam = np.percentile(x, 75) - np.percentile(x, 25)\n",
    "    a = 0.92 * lam * n ** (-1 / 7.0)\n",
    "    b = 0.912 * lam * n ** (-1 / 9.0)\n",
    "\n",
    "    W = np.tile(x, (n, 1))\n",
    "    W = W - W.T\n",
    "\n",
    "    W1 = phi6(W/b)\n",
    "    tdb = np.dot(np.dot(one, W1), one.T)\n",
    "    tdb = -tdb / (n * (n - 1) * b ** 7)\n",
    "\n",
    "    W1 = phi4(W/a)\n",
    "    sda = np.dot(np.dot(one, W1), one.T)\n",
    "    sda = sda / (n * (n - 1) * a ** 5)\n",
    "\n",
    "    alpha2 = 1.357 * (abs(sda / tdb)) ** (1 / 7.0) * h ** (5 / 7.0)\n",
    "\n",
    "    W1 = phi4(W/alpha2)\n",
    "    sdalpha2 = np.dot(np.dot(one, W1), one.T)\n",
    "    sdalpha2 = sdalpha2 / (n * (n - 1) * alpha2 ** 5)\n",
    "\n",
    "    return (norm.pdf(0, 0, np.sqrt(2)) /\n",
    "            (n * abs(sdalpha2[0, 0]))) ** 0.2 - h"
   ]
  },
  {
   "cell_type": "code",
   "execution_count": 871,
   "metadata": {},
   "outputs": [
    {
     "data": {
      "text/plain": [
       "0.294574056411902"
      ]
     },
     "execution_count": 871,
     "metadata": {},
     "output_type": "execute_result"
    }
   ],
   "source": [
    "sj(samples, 0.2)"
   ]
  },
  {
   "cell_type": "code",
   "execution_count": 873,
   "metadata": {},
   "outputs": [
    {
     "name": "stderr",
     "output_type": "stream",
     "text": [
      "/var/folders/wv/cwvgxcp14lxcs5jn0r6p87sr0000gn/T/ipykernel_8594/2861101677.py:52: RuntimeWarning: divide by zero encountered in divide\n",
      "  W1 = phi4(W/alpha2)\n",
      "/var/folders/wv/cwvgxcp14lxcs5jn0r6p87sr0000gn/T/ipykernel_8594/2861101677.py:52: RuntimeWarning: invalid value encountered in divide\n",
      "  W1 = phi4(W/alpha2)\n",
      "/var/folders/wv/cwvgxcp14lxcs5jn0r6p87sr0000gn/T/ipykernel_8594/2861101677.py:30: RuntimeWarning: invalid value encountered in subtract\n",
      "  phi4 = lambda t: (t ** 4 - 6 * t** 2 + 3) * dnorm(t)\n"
     ]
    }
   ],
   "source": [
    "from scipy.optimize import brentq\n",
    "\n"
   ]
  },
  {
   "cell_type": "code",
   "execution_count": 875,
   "metadata": {},
   "outputs": [
    {
     "data": {
      "text/plain": [
       "1.1682660168832992"
      ]
     },
     "execution_count": 875,
     "metadata": {},
     "output_type": "execute_result"
    }
   ],
   "source": [
    "r"
   ]
  },
  {
   "cell_type": "code",
   "execution_count": 856,
   "metadata": {},
   "outputs": [],
   "source": [
    "n_s = 15\n",
    "d = 10\n"
   ]
  },
  {
   "cell_type": "code",
   "execution_count": 885,
   "metadata": {},
   "outputs": [],
   "source": [
    "vlas = rng.standard_normal(n_s)\n",
    "vlas_2 =rng.standard_normal(n_s)+d\n",
    "#samples = np.concatenate([vlas, vlas_2])\n",
    "#samples = vlas\n",
    "samples = np.array([\n",
    "    21.370, 19.435, 20.363, 20.632, 20.404, 19.893, 21.511, 19.905, 22.018, 19.93,\n",
    "    31.304, 32.286, 28.611, 29.721, 29.866, 30.635, 29.715, 27.343, 27.559, 31.32,\n",
    "    39.693, 38.218, 39.828, 41.214, 41.895, 39.569, 39.742, 38.236, 40.460, 39.36,\n",
    "    50.455, 50.704, 51.035, 49.391, 50.504, 48.282, 49.215, 49.149, 47.585, 50.03\n",
    "    ])\n"
   ]
  },
  {
   "cell_type": "code",
   "execution_count": 886,
   "metadata": {},
   "outputs": [],
   "source": [
    "n_s =  25\n",
    "s = []\n",
    "for i in range(10, 60, 10):\n",
    "    s.append(rng.standard_normal(n_s)+i)\n",
    "samples = np.concatenate(s)"
   ]
  },
  {
   "cell_type": "code",
   "execution_count": 887,
   "metadata": {},
   "outputs": [],
   "source": [
    "R = np.max(samples) - np.min(samples)\n",
    "jsj_bandwidth_h = isj_bandwidth(samples)"
   ]
  },
  {
   "cell_type": "code",
   "execution_count": 888,
   "metadata": {},
   "outputs": [
    {
     "name": "stderr",
     "output_type": "stream",
     "text": [
      "/var/folders/wv/cwvgxcp14lxcs5jn0r6p87sr0000gn/T/ipykernel_8594/2861101677.py:52: RuntimeWarning: divide by zero encountered in divide\n",
      "  W1 = phi4(W/alpha2)\n",
      "/var/folders/wv/cwvgxcp14lxcs5jn0r6p87sr0000gn/T/ipykernel_8594/2861101677.py:52: RuntimeWarning: invalid value encountered in divide\n",
      "  W1 = phi4(W/alpha2)\n",
      "/var/folders/wv/cwvgxcp14lxcs5jn0r6p87sr0000gn/T/ipykernel_8594/2861101677.py:30: RuntimeWarning: invalid value encountered in subtract\n",
      "  phi4 = lambda t: (t ** 4 - 6 * t** 2 + 3) * dnorm(t)\n"
     ]
    }
   ],
   "source": [
    "b1 = isj_bandwidth(samples)\n",
    "b2 = improved_sheather_jones(samples.reshape(-1, 1))\n",
    "b3 = brentq(lambda x: sj(samples, x), a=0, b = 10)"
   ]
  },
  {
   "cell_type": "code",
   "execution_count": 889,
   "metadata": {},
   "outputs": [
    {
     "name": "stdout",
     "output_type": "stream",
     "text": [
      "0.025701772703431304 0.3350795986660868 1.134186379069278\n"
     ]
    }
   ],
   "source": [
    "print(b1 ,b2 ,b3)"
   ]
  },
  {
   "cell_type": "code",
   "execution_count": 880,
   "metadata": {},
   "outputs": [],
   "source": [
    "bandwidth_shear = improved_sheather_jones(samples.reshape(-1, 1))"
   ]
  },
  {
   "cell_type": "code",
   "execution_count": 815,
   "metadata": {},
   "outputs": [
    {
     "data": {
      "text/plain": [
       "0.7121980672644155"
      ]
     },
     "execution_count": 815,
     "metadata": {},
     "output_type": "execute_result"
    }
   ],
   "source": [
    "bandwidth = np.sqrt(jsj_bandwidth_h)*R/10\n",
    "bandwidth"
   ]
  },
  {
   "cell_type": "code",
   "execution_count": 897,
   "metadata": {},
   "outputs": [],
   "source": [
    "kernel = gaussian_kde(samples, b3/10)"
   ]
  },
  {
   "cell_type": "code",
   "execution_count": 898,
   "metadata": {},
   "outputs": [],
   "source": [
    "x_line = np.linspace(-10, 80, 400)"
   ]
  },
  {
   "cell_type": "code",
   "execution_count": 905,
   "metadata": {},
   "outputs": [],
   "source": [
    "kernel.set_bandwidth(b3/10)"
   ]
  },
  {
   "cell_type": "code",
   "execution_count": 906,
   "metadata": {},
   "outputs": [
    {
     "data": {
      "text/plain": [
       "[None, None]"
      ]
     },
     "execution_count": 906,
     "metadata": {},
     "output_type": "execute_result"
    },
    {
     "data": {
      "image/png": "[encoded data removed]",
      "text/plain": [
       "<Figure size 640x480 with 1 Axes>"
      ]
     },
     "metadata": {},
     "output_type": "display_data"
    }
   ],
   "source": [
    "plt.plot(x_line, kernel(x_line))\n",
    "#plt.plot(x_line, gaussian_s(x_line, [0, d], [1, 1]))\n",
    "\n",
    "markerline, stemline, baseline =plt.stem(samples, 0.01*np.ones(samples.size))\n",
    "#plt.plot(x_line, gaussian(x_line, vlas[0], jsj_bandwidth_h))\n",
    "plt.setp(markerline, markersize = 2, mec=\"red\")\n",
    "#plt.hlines([1/math.sqrt(2*math.pi)], 0, 5)"
   ]
  },
  {
   "cell_type": "code",
   "execution_count": 683,
   "metadata": {},
   "outputs": [],
   "source": [
    "def improced_sj(data, weights=None):\n",
    "    obs, dims = data.shape\n",
    "    if not dims ==1:\n",
    "        raise ValueError(\"\")\n",
    "    n = 2**10\n",
    "\n",
    "    # Get vaildated weights\n",
    "    if weights is not None:\n",
    "        data = data[weights >0]\n",
    "        weights = weights[weights >0]\n",
    "    \n",
    "    x"
   ]
  },
  {
   "attachments": {},
   "cell_type": "markdown",
   "metadata": {},
   "source": [
    "## Original papers\n",
    "\n",
    "$R(K) = \\int K(x) dx$, $\\sigma_K^2 = \\int x^2 K(x) dx$\n",
    "\n",
    "$$h_{op} = root (\\left( \\frac{R(K)}{\\sigma_K^4 \\hat{S}_D(\\hat{\\alpha}_2(h))} \\right)^{1/5} - h =0 )$$\n",
    "\n",
    "$$\\hat{S}_D(\\alpha) = \\frac{1}{n(n-1)} \\frac{1}{\\alpha^5}\\sum \\sum \\phi^{iv}(\\alpha^{-1}(X_i - X_j))$$\n",
    "\n",
    "$$\\hat{\\alpha}_2(h) = 1.357 \\left( \\frac{\\hat{S}_D(a)}{\\hat{T}_D(b)} \\right)^{1/7} h^{5/7}$$\n",
    "\n",
    "$$\\hat{T}_D(b) = -\\frac{1}{n(n-1)} b^{-7} \\sum \\sum \\phi^{vi}(b^{-1} (X_i - X_j))$$"
   ]
  },
  {
   "attachments": {},
   "cell_type": "markdown",
   "metadata": {},
   "source": [
    "$$a = 0.920 \\hat{\\lambda} n^{-1/7}, b = 0.912 \\hat{\\lambda} n^{-1/9}$$\n",
    "\n",
    "$\\hat{\\lambda}$ is the sample interquartile range"
   ]
  },
  {
   "cell_type": "code",
   "execution_count": null,
   "metadata": {},
   "outputs": [],
   "source": [
    "# Kernel = normal gaussian kernel\n",
    "\n",
    "def interquartile(data):\n",
    "    pass\n",
    "\n",
    "def get_coef(data):\n",
    "    lambda_h = interquartile(data)\n",
    "    return 0.920 * lambda_h *np.power(n, -1/7), 0.912 * lambda_h *np.power(n, -1/9)\n",
    "\n",
    "def S_D(a, n, dX):\n",
    "    return np.exp(dX/a).sum()/(n*(n-1)*a**5)\n",
    "def T_D(b, n, dX):\n",
    "    return -np.exp(dX/b).sum()/(n*(n-1)*b**7)\n",
    "\n",
    "def alpha_h(h, a, b, n, dX):\n",
    "    return 1.357 * np.power(S_D(a, n, dX)/T_D(b, n, dX), 1/7) * np.power(h, 5/7)\n",
    "\n",
    "def R_gaussian():\n",
    "    return \n",
    "def sig_gaussian():\n",
    "    return "
   ]
  },
  {
   "cell_type": "code",
   "execution_count": 824,
   "metadata": {},
   "outputs": [],
   "source": [
    "from typing import Callable, Tuple\n",
    "from scipy.stats import norm\n"
   ]
  },
  {
   "cell_type": "code",
   "execution_count": 829,
   "metadata": {},
   "outputs": [
    {
     "data": {
      "text/plain": [
       "0.28209479177387814"
      ]
     },
     "execution_count": 829,
     "metadata": {},
     "output_type": "execute_result"
    }
   ],
   "source": [
    "norm.pdf(0,0, math.sqrt(2))"
   ]
  },
  {
   "cell_type": "code",
   "execution_count": 830,
   "metadata": {},
   "outputs": [],
   "source": []
  },
  {
   "attachments": {},
   "cell_type": "markdown",
   "metadata": {},
   "source": [
    "## Appendix E \n",
    "\n",
    "In higher dimensions\n",
    "\n",
    "Algorithm 1 can be extended to two dimensions for the esitmation of a p.d.f $f(x)$ on $\\mathbb{R}^2$. Assuming a Gaussian kernel,\n",
    "\n",
    "$$\\phi(\\mathbf{x}, \\mathbf{y}; t) = \\frac{1}{2 \\pi t} \\exp \\left(-\\frac{(\\mathbf{x-y})^T (\\mathbf{x-y})}{2t} \\right)$$"
   ]
  },
  {
   "attachments": {},
   "cell_type": "markdown",
   "metadata": {},
   "source": [
    "$$t^* = (2 \\pi N (\\psi_{0, 2} + \\psi_{2,0} + 2 \\psi_{1,1}))^{-1/3}$$"
   ]
  },
  {
   "cell_type": "markdown",
   "metadata": {},
   "source": []
  }
 ],
 "metadata": {
  "kernelspec": {
   "display_name": "uilc",
   "language": "python",
   "name": "python3"
  },
  "language_info": {
   "codemirror_mode": {
    "name": "ipython",
    "version": 3
   },
   "file_extension": ".py",
   "mimetype": "text/x-python",
   "name": "python",
   "nbconvert_exporter": "python",
   "pygments_lexer": "ipython3",
   "version": "3.11.2"
  },
  "orig_nbformat": 4
 },
 "nbformat": 4,
 "nbformat_minor": 2
}
