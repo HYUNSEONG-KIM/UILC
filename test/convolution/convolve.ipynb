{
 "cells": [
  {
   "attachments": {},
   "cell_type": "markdown",
   "metadata": {},
   "source": [
    "# Convolution Tests"
   ]
  },
  {
   "cell_type": "code",
   "execution_count": 2,
   "metadata": {},
   "outputs": [],
   "source": [
    "import numpy as np\n",
    "from scipy.ndimage import convolve, correlate\n",
    "\n",
    "import convolution"
   ]
  },
  {
   "cell_type": "code",
   "execution_count": 11,
   "metadata": {},
   "outputs": [
    {
     "name": "stdout",
     "output_type": "stream",
     "text": [
      "X:\n",
      "[[ 1  2  3  4  5  6  7]\n",
      " [ 8  9 10 11 12 13 14]\n",
      " [15 16 17 18 19 20 21]\n",
      " [22 23 24 25 26 27 28]]\n"
     ]
    }
   ],
   "source": [
    "X = np.array(\n",
    "    [\n",
    "        [1 , 2 , 3 , 4 , 5 , 6 , 7 ],\n",
    "        [8 , 9 , 10, 11, 12, 13 ,14],\n",
    "        [15, 16, 17, 18, 19, 20, 21],\n",
    "        [22, 23, 24, 25, 26, 27, 28]\n",
    "    ]\n",
    "    )\n",
    "K = np.array(\n",
    "    [[0, -1, 0],\n",
    "     [-1, 4, -1],\n",
    "     [0 ,-1, 0]])\n",
    "\n",
    "print(\"X:\")\n",
    "print(X)"
   ]
  },
  {
   "cell_type": "code",
   "execution_count": 4,
   "metadata": {},
   "outputs": [
    {
     "name": "stdout",
     "output_type": "stream",
     "text": [
      "(2, 2)\n",
      "(1, 1)\n"
     ]
    }
   ],
   "source": [
    "crop  = (2, 2)\n",
    "dim_e = convolution.get_dim_ext(K.shape, crop)\n",
    "er, ec = dim_e\n",
    "\n",
    "print(crop)\n",
    "print(dim_e)"
   ]
  },
  {
   "attachments": {},
   "cell_type": "markdown",
   "metadata": {},
   "source": [
    "Compare with Scipy routine"
   ]
  },
  {
   "cell_type": "code",
   "execution_count": 5,
   "metadata": {},
   "outputs": [
    {
     "data": {
      "text/plain": [
       "array([[-10.,  -7.,  -6.,  -5.,  -4.,  -3.,   4.],\n",
       "       [  5.,   0.,   0.,   0.,   0.,   0.,  13.],\n",
       "       [ 12.,   0.,   0.,   0.,   0.,   0.,  20.],\n",
       "       [ 46.,  28.,  29.,  30.,  31.,  32.,  60.]])"
      ]
     },
     "execution_count": 5,
     "metadata": {},
     "output_type": "execute_result"
    }
   ],
   "source": [
    "convolution.convolve2d(X, K, crop, edge_mode=\"constant\", edge_params=[2])"
   ]
  },
  {
   "cell_type": "code",
   "execution_count": 6,
   "metadata": {},
   "outputs": [
    {
     "data": {
      "text/plain": [
       "array([[-10,  -7,  -6,  -5,  -4,  -3,   4],\n",
       "       [  5,   0,   0,   0,   0,   0,  13],\n",
       "       [ 12,   0,   0,   0,   0,   0,  20],\n",
       "       [ 46,  28,  29,  30,  31,  32,  60]])"
      ]
     },
     "execution_count": 6,
     "metadata": {},
     "output_type": "execute_result"
    }
   ],
   "source": [
    "convolve(X, K, mode=\"constant\", cval = 2) #scipy convolve"
   ]
  },
  {
   "attachments": {},
   "cell_type": "markdown",
   "metadata": {},
   "source": [
    "1dim array * 1dim array = matrix generation"
   ]
  },
  {
   "cell_type": "code",
   "execution_count": 9,
   "metadata": {},
   "outputs": [
    {
     "name": "stdout",
     "output_type": "stream",
     "text": [
      "(1, 11) (11, 1) -> (11, 11)\n"
     ]
    }
   ],
   "source": [
    "x = np.array([[1, 1, 1, 1, 0, 1, 0, 1, 0, 1, 0]])\n",
    "y = np.array(\n",
    "    [[0],[1],[0],[1],[0],[1],[0],[1],[0],[1], [0]])\n",
    "d = convolution.convolve2d(x, y, (1,1), edge_mode=\"constant\", edge_params=[0])\n",
    "print(x.shape, y.shape, \"->\", d.shape)\n"
   ]
  },
  {
   "cell_type": "code",
   "execution_count": 10,
   "metadata": {},
   "outputs": [
    {
     "data": {
      "text/plain": [
       "array([[0., 0., 0., 0., 0., 0., 0., 0., 0., 0., 0.],\n",
       "       [1., 1., 1., 1., 0., 1., 0., 1., 0., 1., 0.],\n",
       "       [0., 0., 0., 0., 0., 0., 0., 0., 0., 0., 0.],\n",
       "       [1., 1., 1., 1., 0., 1., 0., 1., 0., 1., 0.],\n",
       "       [0., 0., 0., 0., 0., 0., 0., 0., 0., 0., 0.],\n",
       "       [1., 1., 1., 1., 0., 1., 0., 1., 0., 1., 0.],\n",
       "       [0., 0., 0., 0., 0., 0., 0., 0., 0., 0., 0.],\n",
       "       [1., 1., 1., 1., 0., 1., 0., 1., 0., 1., 0.],\n",
       "       [0., 0., 0., 0., 0., 0., 0., 0., 0., 0., 0.],\n",
       "       [1., 1., 1., 1., 0., 1., 0., 1., 0., 1., 0.],\n",
       "       [0., 0., 0., 0., 0., 0., 0., 0., 0., 0., 0.]])"
      ]
     },
     "execution_count": 10,
     "metadata": {},
     "output_type": "execute_result"
    }
   ],
   "source": [
    "d"
   ]
  },
  {
   "attachments": {},
   "cell_type": "markdown",
   "metadata": {},
   "source": [
    "---"
   ]
  }
 ],
 "metadata": {
  "kernelspec": {
   "display_name": "uilc",
   "language": "python",
   "name": "python3"
  },
  "language_info": {
   "codemirror_mode": {
    "name": "ipython",
    "version": 3
   },
   "file_extension": ".py",
   "mimetype": "text/x-python",
   "name": "python",
   "nbconvert_exporter": "python",
   "pygments_lexer": "ipython3",
   "version": "3.10.4"
  },
  "orig_nbformat": 4,
  "vscode": {
   "interpreter": {
    "hash": "195bc89084d6cbe85b4b0fc9b0001b42e835d7f13938cce061bfbc6c7d4a005e"
   }
  }
 },
 "nbformat": 4,
 "nbformat_minor": 2
}
