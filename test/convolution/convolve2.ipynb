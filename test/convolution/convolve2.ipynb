{
 "cells": [
  {
   "cell_type": "code",
   "execution_count": null,
   "metadata": {},
   "outputs": [],
   "source": []
  }
 ],
 "metadata": {
  "kernelspec": {
   "display_name": "uilc",
   "language": "python",
   "name": "python3"
  },
  "language_info": {
   "name": "python",
   "version": "3.10.4"
  },
  "orig_nbformat": 4,
  "vscode": {
   "interpreter": {
    "hash": "195bc89084d6cbe85b4b0fc9b0001b42e835d7f13938cce061bfbc6c7d4a005e"
   }
  }
 },
 "nbformat": 4,
 "nbformat_minor": 2
}
