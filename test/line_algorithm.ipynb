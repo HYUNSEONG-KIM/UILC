{
 "cells": [
  {
   "attachments": {},
   "cell_type": "markdown",
   "metadata": {},
   "source": [
    "# Bresenham's line algorithm\n",
    "\n",
    "See [Bresenham's line algorithm](https://www.cs.helsinki.fi/group/goa/mallinnus/lines/bresenh.html)."
   ]
  },
  {
   "cell_type": "code",
   "execution_count": 1,
   "metadata": {},
   "outputs": [],
   "source": [
    "import math\n",
    "from typing import Tuple\n",
    "from copy import deepcopy\n",
    "\n",
    "import numpy as np\n",
    "from matplotlib import pyplot as plt\n",
    "\n",
    "EPS = np.finfo(float).eps"
   ]
  },
  {
   "attachments": {},
   "cell_type": "markdown",
   "metadata": {},
   "source": [
    "$ f(x) = mx +b$\n",
    "\n",
    "-> $f(x,y) = \\lambda \\cdot (mx-y+b)$\n",
    "\n",
    "$$D = f(x,y)$$\n",
    "\n",
    "$$D' = \\text{coef}\\{m\\} \\cdot D$$"
   ]
  },
  {
   "cell_type": "code",
   "execution_count": 2,
   "metadata": {},
   "outputs": [],
   "source": [
    "def plane_deter(point, m, d, dx = 1):\n",
    "    a = m* dx\n",
    "    b = - dx\n",
    "    c = dx* d\n",
    "    x, y = point\n",
    "    result = (a*x + b*y + c)\n",
    "    if math.fabs(result) < EPS:\n",
    "        place = 0\n",
    "    elif result >0:\n",
    "        place = 1\n",
    "    else:\n",
    "        place = -1\n",
    "    \n",
    "    return place # 1: line below the given point, 0: on, 1: above\n",
    "def f_generator(m, d):\n",
    "    return lambda x, y: plane_deter((x,y), m , d)\n",
    "#f = f_generator(m, d)"
   ]
  },
  {
   "cell_type": "code",
   "execution_count": 3,
   "metadata": {},
   "outputs": [],
   "source": [
    "# p -> p1, p2 ,p3: p1(diagonal), p2(prime), p3(sub)\n",
    "def next_points(point, m, dir = True):\n",
    "    xi, yi = point\n",
    "    dx = 1 if dir else -1\n",
    "    dy = (1 if dir else -1) * (1 if m>=0 else -1)\n",
    "    np_1 = [xi + dx, yi +dy]\n",
    "    np_2, np_3 = [xi, yi+dy], [xi +dx, yi] \n",
    "    if math.fabs(m) < 1:\n",
    "        np_2, np_3 = np_3, np_2\n",
    "    return np_1, np_2, np_3"
   ]
  },
  {
   "attachments": {},
   "cell_type": "markdown",
   "metadata": {},
   "source": [
    "$$\\text{coef}\\{m\\} \\begin{cases} \n",
    "      1 & -\\infty < m \\leq -1\\\\\n",
    "      -1 & -1 < m < 0\\\\\n",
    "      1 & 0 \\leq m < 1\\\\\n",
    "      -1 & 1 \\leq m < \\infty> \n",
    "   \\end{cases}$$"
   ]
  },
  {
   "cell_type": "code",
   "execution_count": 4,
   "metadata": {},
   "outputs": [],
   "source": [
    "def coef(m):\n",
    "    if m >= 0 :\n",
    "        if m < 1:\n",
    "            result = 1\n",
    "        else:\n",
    "            result = -1\n",
    "    else:\n",
    "        if m > -1:\n",
    "            result = -1\n",
    "        else:\n",
    "            result = 1\n",
    "    return result "
   ]
  },
  {
   "cell_type": "code",
   "execution_count": 5,
   "metadata": {},
   "outputs": [],
   "source": [
    "def points(\n",
    "        initial_point, \n",
    "        line_param:Tuple[float, float], \n",
    "        p_range:Tuple[int, int],\n",
    "        allow_cross_thick = False\n",
    "        ):\n",
    "        m, d = line_param\n",
    "        f = f_generator(m, d)\n",
    "        m_cor = coef(m)\n",
    "        points_main =[initial_point]\n",
    "        points_sub = []\n",
    "        \n",
    "        # positive direction\n",
    "        dir = True\n",
    "        p = deepcopy(initial_point)\n",
    "        for i in range(0, p_range[1]):\n",
    "            p1, p2, p3 = next_points(p, m, dir)\n",
    "            pd = [(p1[0] + p2[0])/2, (p1[1] + p2[1])/2]\n",
    "            D = (m_cor) * f(*pd)\n",
    "            if D == 1:\n",
    "                points_main.append(p1)\n",
    "                if allow_cross_thick:\n",
    "                    points_main.append(p2)\n",
    "                    points_main.append(p3)\n",
    "                pf = p1\n",
    "            elif D == -1:\n",
    "                points_main.append(p2)\n",
    "                pf = p2\n",
    "            else:\n",
    "                points_main.append(p1)\n",
    "                points_main.append(p2)\n",
    "                p_ = [p1[0] + (p2[0]- p[0]), p1[1] + (p2[1]- p[1])]\n",
    "                points_main.append(p_)\n",
    "                pf = p_ # 2 step\n",
    "            p = pf\n",
    "        # negative direction\n",
    "        dir = False\n",
    "        p = deepcopy(initial_point)\n",
    "        for i in range(0, p_range[0]):\n",
    "            p1, p2, p3 = next_points(p, m, dir)\n",
    "            pd = [(p1[0] + p2[0])/2, (p1[1] + p2[1])/2]\n",
    "            D = (m_cor) * ( -f(*pd)) \n",
    "            if D == 1:\n",
    "                points_main.append(p1)\n",
    "                if allow_cross_thick:\n",
    "                    points_main.append(p2)\n",
    "                    points_main.append(p3)\n",
    "                pf = p1\n",
    "            elif D == -1:\n",
    "                points_main.append(p2)\n",
    "                pf = p2\n",
    "            else:\n",
    "                points_main.append(p1)\n",
    "                points_main.append(p2)\n",
    "                p_ = [p1[0] + (p2[0]- p[0]), p1[1] + (p2[1]- p[1])]\n",
    "                points_main.append(p_)\n",
    "                pf = p_ # 2 step\n",
    "                \n",
    "            p = pf\n",
    "        return np.array(points_main), np.array(points_sub)\n"
   ]
  },
  {
   "attachments": {},
   "cell_type": "markdown",
   "metadata": {},
   "source": [
    "## Test"
   ]
  },
  {
   "cell_type": "code",
   "execution_count": 6,
   "metadata": {},
   "outputs": [],
   "source": [
    "pi = [1, 1] # center point\n",
    "Wx = 0.2\n",
    "Wy = 0.3\n",
    "ms = [Wy/Wx]\n",
    "#ms = [ 0, 0.5, 1, 2, -0.6, -1, -3]\n",
    "bs = [pi[1] - m*pi[0] for m in ms ]"
   ]
  },
  {
   "cell_type": "code",
   "execution_count": 7,
   "metadata": {},
   "outputs": [],
   "source": [
    "def line(x, m, b):\n",
    "    return m * x + b"
   ]
  },
  {
   "cell_type": "code",
   "execution_count": 10,
   "metadata": {},
   "outputs": [],
   "source": [
    "n =30\n",
    "x = 1.2*n\n",
    "line_points = [[[0, x], [line(0, m, b), line(x, m, b)]] for m, b in zip(ms, bs)]\n",
    "p_range = (30, 30)\n",
    "int_points = [points(pi, line_param=[m, b], p_range=p_range, allow_cross_thick=True) for m, b in zip(ms, bs)]\n",
    "points_ = [[p[0][:-1, 0], p[0][:-1, 1]] for p in int_points]"
   ]
  },
  {
   "cell_type": "code",
   "execution_count": 11,
   "metadata": {},
   "outputs": [
    {
     "data": {
      "image/png": "[encoded data removed]",
      "text/plain": [
       "<Figure size 576x576 with 1 Axes>"
      ]
     },
     "metadata": {
      "needs_background": "light"
     },
     "output_type": "display_data"
    }
   ],
   "source": [
    "fig = plt.figure(figsize=(8,8))\n",
    "ax = fig.add_subplot()\n",
    "for l_p in line_points:\n",
    "    ax.plot(l_p[0], l_p[1])\n",
    "for point in points_:\n",
    "    ax.scatter(point[0], point[1])\n",
    "ax.set_xlim(1, n/2+0.5)\n",
    "ax.set_ylim(1, n/2+0.5)\n",
    "ax.grid()\n",
    "plt.show()"
   ]
  },
  {
   "cell_type": "code",
   "execution_count": null,
   "metadata": {},
   "outputs": [],
   "source": []
  }
 ],
 "metadata": {
  "kernelspec": {
   "display_name": "uilc",
   "language": "python",
   "name": "python3"
  },
  "language_info": {
   "codemirror_mode": {
    "name": "ipython",
    "version": 3
   },
   "file_extension": ".py",
   "mimetype": "text/x-python",
   "name": "python",
   "nbconvert_exporter": "python",
   "pygments_lexer": "ipython3",
   "version": "3.10.8"
  },
  "orig_nbformat": 4,
  "vscode": {
   "interpreter": {
    "hash": "46cbc98f609523c60bcebc3e8783a46f2379112477357289ae5a540d94f06bed"
   }
  }
 },
 "nbformat": 4,
 "nbformat_minor": 2
}
