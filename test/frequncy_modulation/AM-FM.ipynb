{
 "cells": [
  {
   "cell_type": "markdown",
   "metadata": {},
   "source": [
    "# AM demodulation\n",
    "\n",
    "Method: Product detector\n",
    "\n",
    "Let $\\{f_{mi}\\}_{i=0}^\\infty$ is a frequency range of message signal. By the prerequist of AM method, $\\max(f_{mi}) << f_c$\n",
    "\n",
    "$$m(t) = C + \\sum_{i=0}^\\infty A_i \\exp(2 \\pi f_{m i} j t) $$\n",
    "\n",
    "The amplitude modulated signal, M_{f_c},  with carrier frequency, $f_c$, is \n",
    "\n",
    "$$M_{f_c}(t) = m(t) \\cos(2 \\pi f_c t)$$\n",
    "\n",
    "We use product developer with $\\sin^2(2 \\pi f_c t) \\cos(2 \\pi f_c t)$\n",
    "\n",
    "$$M_{f_c}(t) \\sin^2(2 \\pi f_c t) \\cos(2 \\pi f_c t) \\newline = m(t) \\sin^2(2 \\pi f_c t) \\cos^2(2 \\pi f_c t)  \\newline \n",
    "= m(t) \\frac{1- \\cos(2\\pi 4 f_c t)}{8} \\newline \n",
    "= \\frac{1}{8} m(t) - \\frac{1}{8} m(t) \\cos(2\\pi 4 f_c t)$$\n",
    "\n",
    "Frequency range of each terms\n",
    "\n",
    "* $m(t)$: Same with the original signal\n",
    "* $m(t) \\cos(2\\pi f_c t)$: $[4 f_c - \\max(f_{mi}) , 4 f+ \\max(f_{mi})]$\n",
    "\n",
    "Therefore, if we do low pass filtering with any frequency within $(max(f_{mi}), 4 f_c - \\max(f_{mi}))$, we can get original signal, $m(t)$. \n",
    "\n",
    "$f_c$ is enough to use.\n",
    "\n",
    "## Low pass filter\n",
    "\n",
    "### Convolution \n",
    "\n",
    "$$ \\because \\mathcal{F}[f * g] = F \\cdot G \\newline\n",
    "    (2B \\cdot \\text{sinc}(2 \\pi B t) *) m(t) \\leftrightarrow \\text{Rec}_B(M(f))\n",
    "$$\n",
    "\n",
    "\n"
   ]
  },
  {
   "cell_type": "code",
   "execution_count": null,
   "metadata": {},
   "outputs": [],
   "source": []
  },
  {
   "cell_type": "code",
   "execution_count": null,
   "metadata": {},
   "outputs": [],
   "source": []
  },
  {
   "cell_type": "markdown",
   "metadata": {},
   "source": [
    "# Frequency Modulation\n",
    "\n",
    "$$m(t) = A \\cos(2 \\pi (f_c + f_m(t)) t + \\phi)$$"
   ]
  },
  {
   "cell_type": "markdown",
   "metadata": {},
   "source": []
  }
 ],
 "metadata": {
  "kernelspec": {
   "display_name": "uilc",
   "language": "python",
   "name": "python3"
  },
  "language_info": {
   "name": "python",
   "version": "3.10.4"
  },
  "orig_nbformat": 4,
  "vscode": {
   "interpreter": {
    "hash": "195bc89084d6cbe85b4b0fc9b0001b42e835d7f13938cce061bfbc6c7d4a005e"
   }
  }
 },
 "nbformat": 4,
 "nbformat_minor": 2
}
