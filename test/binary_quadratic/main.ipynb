{
 "cells": [
  {
   "attachments": {},
   "cell_type": "markdown",
   "metadata": {},
   "source": [
    "### NNLS to quadratic programming\n",
    "\n",
    "$$\\text{arg } \\text{min}_x || \\mathbf{Ax -y} ||_2^2 $$\n",
    "$$ \\mathbf{x} \\geq 0$$\n",
    "\n",
    "$$\\mathbf{Q} = \\mathbf{A}^T\\mathbf{A}, \\mathbf{c} = - \\mathbf{A}^T \\mathbf{y}$$\n",
    "\n",
    "$$\\text{arg } \\text{min}_{x \\geq 0} \\left(\\frac{1}{2} \\mathbf{x}^T \\mathbf{Q x} + \\mathbf{c}^T \\mathbf{x} \\right) $$\n",
    "$$ \\mathbf{x} \\geq 0$$"
   ]
  },
  {
   "attachments": {},
   "cell_type": "markdown",
   "metadata": {},
   "source": [
    "---"
   ]
  },
  {
   "attachments": {},
   "cell_type": "markdown",
   "metadata": {},
   "source": [
    "### Continuous approach for solving binary quadratic problem\n",
    "\n",
    "$$\\text{min} f(\\mathbf{x}) =\\mathbf{x}^T \\mathbf{Q}\\mathbf{x} + \\mathbf{c}^T \\mathbf{x} $$\n",
    "$$ x \\in \\{0, 1\\}^n$$"
   ]
  },
  {
   "attachments": {},
   "cell_type": "markdown",
   "metadata": {},
   "source": [
    "Define a penalty functiuon $\\phi$.\n",
    "\n",
    "$$\\phi(x) = x (1-x)$$\n",
    "\n",
    "it becomes zero iff $x\\in \\{0, 1\\}$\n",
    "\n",
    "\n",
    "$$\\text{min} f(\\mathbf{x}) =\\mathbf{x}^T \\mathbf{Q}\\mathbf{x} + \\mathbf{c}^T \\mathbf{x} - \\mu \\mathbf{x}^t (\\mathbf{1} - \\mathbf{x}) $$\n",
    "$$ 0 \\leq x_i \\leq 1, \\forall i = 1, 2, \\dots n$$\n",
    "\n",
    "Corresponding quadratic problem can be obtained as\n",
    "\n",
    "$$\\overline{\\mathbf{c}} = \\mathbf{c} + \\mu \\mathbf{1}$$\n",
    "$$\\overline{\\mathbf{Q}} = \\mathbf{Q} - \\mu \\mathbf{I}$$\n",
    "\n",
    "$$\\text{min} f(\\mathbf{x}) =\\mathbf{x}^T \\overline{\\mathbf{Q}}\\mathbf{x} + \\overline{\\mathbf{c}}^T \\mathbf{x}$$\n",
    "$$ 0 \\leq x_i \\leq 1, \\forall i = 1, 2, \\dots n$$"
   ]
  },
  {
   "cell_type": "markdown",
   "metadata": {},
   "source": []
  }
 ],
 "metadata": {
  "language_info": {
   "name": "python"
  },
  "orig_nbformat": 4
 },
 "nbformat": 4,
 "nbformat_minor": 2
}
