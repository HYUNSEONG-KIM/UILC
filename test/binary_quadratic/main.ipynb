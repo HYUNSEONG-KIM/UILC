{
 "cells": [
  {
   "attachments": {},
   "cell_type": "markdown",
   "metadata": {},
   "source": [
    "### NNLS to quadratic programming\n",
    "\n",
    "$$\\text{arg } \\text{min}_x || \\mathbf{Ax -y} ||_2^2 $$\n",
    "$$ \\mathbf{x} \\geq 0$$\n",
    "\n",
    "$$\\mathbf{Q} = \\mathbf{A}^T\\mathbf{A}, \\mathbf{c} = - \\mathbf{A}^T \\mathbf{y}$$\n",
    "\n",
    "$$\\text{arg } \\text{min}_{x \\geq 0} \\left(\\frac{1}{2} \\mathbf{x}^T \\mathbf{Q x} + \\mathbf{c}^T \\mathbf{x} \\right) $$\n",
    "$$ \\mathbf{x} \\geq 0$$"
   ]
  },
  {
   "attachments": {},
   "cell_type": "markdown",
   "metadata": {},
   "source": [
    "---"
   ]
  },
  {
   "attachments": {},
   "cell_type": "markdown",
   "metadata": {},
   "source": [
    "### Continuous approach for solving binary quadratic problem\n",
    "\n",
    "$$\\text{min} f(\\mathbf{x}) =\\mathbf{x}^T \\mathbf{Q}\\mathbf{x} + \\mathbf{c}^T \\mathbf{x} $$\n",
    "$$ x \\in \\{0, 1\\}^n$$"
   ]
  },
  {
   "attachments": {},
   "cell_type": "markdown",
   "metadata": {},
   "source": [
    "Define a penalty functiuon $\\phi$.\n",
    "\n",
    "$$\\phi(x) = x (1-x)$$\n",
    "\n",
    "it becomes zero iff $x\\in \\{0, 1\\}$\n",
    "\n",
    "\n",
    "$$\\text{min} f(\\mathbf{x}) =\\mathbf{x}^T \\mathbf{Q}\\mathbf{x} + \\mathbf{c}^T \\mathbf{x} - \\mu \\mathbf{x}^t (\\mathbf{1} - \\mathbf{x}) $$\n",
    "$$ 0 \\leq x_i \\leq 1, \\forall i = 1, 2, \\dots n$$\n",
    "\n",
    "Corresponding quadratic problem can be obtained as\n",
    "\n",
    "$$\\overline{\\mathbf{c}} = \\mathbf{c} + \\mu \\mathbf{1}$$\n",
    "$$\\overline{\\mathbf{Q}} = \\mathbf{Q} - \\mu \\mathbf{I}$$\n",
    "\n",
    "$$\\text{min} f(\\mathbf{x}) =\\mathbf{x}^T \\overline{\\mathbf{Q}}\\mathbf{x} + \\overline{\\mathbf{c}}^T \\mathbf{x}$$\n",
    "$$ 0 \\leq x_i \\leq 1, \\forall i = 1, 2, \\dots n$$"
   ]
  },
  {
   "attachments": {},
   "cell_type": "markdown",
   "metadata": {},
   "source": [
    "Now let $\\mathbf{b} = \\mu_b \\mathbf{e}$. Since, matrix $\\mathbf{A}$ is hermitian such that $\\mathbf{A} = \\mathbf{A}^T$. \n",
    "\n",
    "$$\\mathbf{Q} = \\mathbf{A}^2$$\n",
    "\n",
    "$(\\lambda_i)^2$ are eigenvalues of $\\mathbf{Q}$. In addition, $\\mu \\geq (\\text{max}(\\lambda_i))^2$\n",
    "\n",
    "Thus, $\\overline{\\mathbf{Q}}$ is a negative definite matrix.\n",
    "\n",
    "$$\\overline{\\mathbf{Q}} = \\mathbf{A}^2 - \\mu \\mathbf{I}$$\n",
    "\n",
    "and \n",
    "\n",
    "$$\\overline{\\mathbf{c}} = (\\mu  \\mathbf{I}- \\mu_b \\mathbf{A}) \\mathbf{e} $$"
   ]
  },
  {
   "attachments": {},
   "cell_type": "markdown",
   "metadata": {},
   "source": [
    "Assume that there exists bounded least square problem whose corresponding quadratic form.\n",
    "\n",
    "$$ ||\\mathbf{A'} \\mathbf{x} = \\mathbf{b}' ||_2 $$\n",
    "$$ 0 \\leq x_i \\leq 1$$\n",
    "\n",
    "$$\\text{min} f(\\mathbf{x}) =\\mathbf{x}^T \\overline{\\mathbf{Q}}\\mathbf{x} + \\overline{\\mathbf{c}}^T \\mathbf{x}$$"
   ]
  },
  {
   "attachments": {},
   "cell_type": "markdown",
   "metadata": {},
   "source": [
    "$$\\overline{\\mathbf{Q}} = (\\mathbf{A'})^T \\mathbf{A'}$$\n",
    "\n",
    "$\\overline{\\mathbf{Q}}$ is negative definite matrix so convert to positive definitem matrix with\n",
    "\n",
    "$$\\overline{\\mathbf{Q}} = (i)^2\\overline{\\mathbf{Q'}}$$\n",
    "\n",
    "Decompose $\\overline{\\mathbf{Q'}}$ with Cholesky decomposition.\n",
    "\n",
    "$$\\overline{\\mathbf{Q'}} = (\\mathbf{A''})^*\\mathbf{A''}$$"
   ]
  },
  {
   "attachments": {},
   "cell_type": "markdown",
   "metadata": {},
   "source": [
    "$$\\mathbf{A'} = c \\mathbf{A''}$$\n",
    "\n",
    "No such complex number, $c$ exists. All the works above and below are meaningless."
   ]
  },
  {
   "attachments": {},
   "cell_type": "markdown",
   "metadata": {},
   "source": [
    "$$\\mathbf{b'} = (\\mu_b (\\mathbf{A'})^{-1} \\mathbf{A} - \\mu \\mathbf{I}) \\mathbf{e}$$"
   ]
  },
  {
   "attachments": {},
   "cell_type": "markdown",
   "metadata": {},
   "source": [
    "$$(\\mathbf{A'})^{-1} = -i (\\mathbf{A''})^{-1}$$"
   ]
  },
  {
   "attachments": {},
   "cell_type": "markdown",
   "metadata": {},
   "source": [
    "Thus we get <- we can't>\n",
    "\n",
    "$$ ||i \\mathbf{A''} \\mathbf{x} = ( -(i\\cdot \\mu_b) (\\mathbf{A''})^{-1} \\mathbf{A} - \\mu \\mathbf{I}) \\mathbf{e} ||_2 $$\n",
    "$$ 0 \\leq x_i \\leq 1$$"
   ]
  },
  {
   "cell_type": "code",
   "execution_count": 3,
   "metadata": {},
   "outputs": [],
   "source": [
    "from scipy import linalg\n",
    "import numpy as np"
   ]
  },
  {
   "cell_type": "code",
   "execution_count": 30,
   "metadata": {},
   "outputs": [],
   "source": [
    "def get_relaxed_sys(A, mu_b):\n",
    "    # Get eigenvalues\n",
    "    n,m = A.shape \n",
    "\n",
    "    eig_values_A = linalg.eigh(A,  eigvals_only=True)\n",
    "    mu = np.power(eig_values_A.max(), 2)\n",
    "    I = np.identity(n)\n",
    "    \n",
    "    Q_bar_p =-(A.dot(A) - mu* np.identity(n))\n",
    "    A_pp = linalg.cholesky(Q_bar_p)\n",
    "    A_pp_inv = linalg.inv(A_pp)\n",
    "\n",
    "    A_p = complex(0,1)* A_pp\n",
    "    b_p = -(complex(0,1)*mu_b*A_pp_inv.dot(A) + mu*I).dot(np.ones(n))\n",
    "\n",
    "    return A_p, b_p"
   ]
  },
  {
   "cell_type": "code",
   "execution_count": 31,
   "metadata": {},
   "outputs": [],
   "source": [
    "A = linalg.toeplitz([5, 3, 1])\n",
    "mu_b = linalg.eigh(A,  eigvals_only=True).max()+1"
   ]
  },
  {
   "cell_type": "code",
   "execution_count": 32,
   "metadata": {},
   "outputs": [],
   "source": [
    "n,m = A.shape \n",
    "eig_values_A = linalg.eigh(A,  eigvals_only=True)\n",
    "mu = np.power(eig_values_A.max(), 2)\n",
    "I = np.identity(n)"
   ]
  },
  {
   "cell_type": "code",
   "execution_count": 33,
   "metadata": {},
   "outputs": [
    {
     "data": {
      "text/plain": [
       "array([[ 60.4920206, -33.       , -19.       ],\n",
       "       [-33.       ,  52.4920206, -33.       ],\n",
       "       [-19.       , -33.       ,  60.4920206]])"
      ]
     },
     "execution_count": 33,
     "metadata": {},
     "output_type": "execute_result"
    }
   ],
   "source": [
    "Q_bar_p =-(A.dot(A) - mu* np.identity(n))\n",
    "Q_bar_p"
   ]
  },
  {
   "cell_type": "code",
   "execution_count": 34,
   "metadata": {},
   "outputs": [
    {
     "data": {
      "text/plain": [
       "array([[95.4920206,  0.       ,  0.       ],\n",
       "       [ 0.       , 95.4920206,  0.       ],\n",
       "       [ 0.       ,  0.       , 95.4920206]])"
      ]
     },
     "execution_count": 34,
     "metadata": {},
     "output_type": "execute_result"
    }
   ],
   "source": [
    "mu* np.identity(n)"
   ]
  },
  {
   "cell_type": "code",
   "execution_count": 35,
   "metadata": {},
   "outputs": [],
   "source": [
    "A_p, b_p = get_relaxed_sys(A, mu_b)"
   ]
  },
  {
   "cell_type": "code",
   "execution_count": 38,
   "metadata": {},
   "outputs": [
    {
     "data": {
      "text/plain": [
       "array([[ 0., -0., -0.],\n",
       "       [ 0.,  0., -0.],\n",
       "       [ 0.,  0.,  0.]])"
      ]
     },
     "execution_count": 38,
     "metadata": {},
     "output_type": "execute_result"
    }
   ],
   "source": [
    "A_p.real"
   ]
  },
  {
   "cell_type": "code",
   "execution_count": 39,
   "metadata": {},
   "outputs": [
    {
     "data": {
      "text/plain": [
       "array([[ 7.77766164e+00, -4.24292050e+00, -2.44289362e+00],\n",
       "       [ 0.00000000e+00,  5.87278863e+00, -7.38405657e+00],\n",
       "       [ 0.00000000e+00,  0.00000000e+00,  3.96252950e-07]])"
      ]
     },
     "execution_count": 39,
     "metadata": {},
     "output_type": "execute_result"
    }
   ],
   "source": [
    "A_p.imag"
   ]
  },
  {
   "cell_type": "code",
   "execution_count": 37,
   "metadata": {},
   "outputs": [
    {
     "data": {
      "text/plain": [
       "array([-95.4920206-2.44661967e+08j, -95.4920206-3.07621790e+08j,\n",
       "       -95.4920206-2.44661944e+08j])"
      ]
     },
     "execution_count": 37,
     "metadata": {},
     "output_type": "execute_result"
    }
   ],
   "source": [
    "b_p"
   ]
  },
  {
   "cell_type": "code",
   "execution_count": 41,
   "metadata": {},
   "outputs": [
    {
     "data": {
      "text/plain": [
       "array([[-8.44621242e+01+0.j,  6.87931057e+00+0.j,  9.68003802e-07+0.j],\n",
       "       [ 6.87931057e+00+0.j, -8.90139376e+01+0.j,  2.92595419e-06+0.j],\n",
       "       [ 9.68003802e-07+0.j,  2.92595419e-06+0.j, -1.57016400e-13+0.j]])"
      ]
     },
     "execution_count": 41,
     "metadata": {},
     "output_type": "execute_result"
    }
   ],
   "source": [
    "A_p.dot(A_p.transpose())"
   ]
  },
  {
   "cell_type": "code",
   "execution_count": 42,
   "metadata": {},
   "outputs": [],
   "source": [
    "from scipy import optimize"
   ]
  },
  {
   "cell_type": "code",
   "execution_count": 47,
   "metadata": {},
   "outputs": [],
   "source": [
    "n = 8\n",
    "c = np.ones(n)\n",
    "A_ub = linalg.toeplitz([10, 9.2, 7, 3.2, 2.1, 0.5, 0.01, 0.0002])\n",
    "b_ub = A.dot(c)\n",
    "\n",
    "A_eq = np.identity(n)\n",
    "b_eq =  "
   ]
  },
  {
   "cell_type": "code",
   "execution_count": 48,
   "metadata": {},
   "outputs": [],
   "source": []
  },
  {
   "cell_type": "code",
   "execution_count": 46,
   "metadata": {},
   "outputs": [
    {
     "data": {
      "text/plain": [
       "(8, 8)"
      ]
     },
     "execution_count": 46,
     "metadata": {},
     "output_type": "execute_result"
    }
   ],
   "source": [
    "A.shape"
   ]
  },
  {
   "cell_type": "code",
   "execution_count": 49,
   "metadata": {},
   "outputs": [
    {
     "data": {
      "text/plain": [
       "array([32.0102, 41.21  , 48.2   , 50.9   , 50.9   , 48.2   , 41.21  ,\n",
       "       32.0102])"
      ]
     },
     "execution_count": 49,
     "metadata": {},
     "output_type": "execute_result"
    }
   ],
   "source": [
    "A.dot(c)"
   ]
  },
  {
   "cell_type": "code",
   "execution_count": null,
   "metadata": {},
   "outputs": [],
   "source": []
  }
 ],
 "metadata": {
  "kernelspec": {
   "display_name": "uilc",
   "language": "python",
   "name": "python3"
  },
  "language_info": {
   "codemirror_mode": {
    "name": "ipython",
    "version": 3
   },
   "file_extension": ".py",
   "mimetype": "text/x-python",
   "name": "python",
   "nbconvert_exporter": "python",
   "pygments_lexer": "ipython3",
   "version": "3.10.4"
  },
  "orig_nbformat": 4
 },
 "nbformat": 4,
 "nbformat_minor": 2
}
