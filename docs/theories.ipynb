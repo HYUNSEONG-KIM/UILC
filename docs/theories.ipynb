{
 "cells": [
  {
   "cell_type": "markdown",
   "metadata": {},
   "source": [
    "# Theories and Related routines\n",
    "\n",
    "The major goal of LEDs array design for target plane intensity uniformity is minimizing derivation of intensity with finite number of LEDs, by determining number of LEDs, minimizing LEDs array area, and maximzing average power of plane intensity. \n",
    "\n",
    "There are two major approaches in location determination, analytic methods and metaheuristic methods. The examples of metaheuristic methods are\n",
    "\n",
    "* Stimulated Annealing \n",
    "* Genetic Algorithm\n",
    "* Local Search\n",
    "* Particle Swarm Optimization.\n",
    "\n",
    "See details of above methods in next papers\n",
    "\n",
    "* Z. Su, D. Xue, and Z. Ji, “Designing led array for uniform illumination distribution by simulated annealing algorithm,”257 Opt. Express 20, A843–A855 (2012).\n",
    "* S. Pal, “Optimization of led array for uniform illumination over a target plane by evolutionary programming,” Appl.259 Opt. 54, 8221–8227 (2015).\n",
    "* P. Lei, Q. Wag, and H. Zou, “Designing led array for uniform illumination based on local search algorithm,” JEOS:RP2619 (2014).\n",
    "* . Yu, X. Wei, O. Zhang, and X. Zhang, “Research on illumination uniformity of high-power led array light source,”263 in AIP Conference Proceedings, vol. 1971 (AIP Publishing LLC, 2018), p. 050019.\n",
    "\n",
    "\n",
    "## Optical Model of LED\n",
    "\n",
    "The imperpect Lambertian model is commonly used for hemisphere lenz LED device and far field irradiation. With inverse-square law, optical model of LED can be represented with target-LED distance, $r$, viewing angle, $\\theta$, Lambertian coefficient, $s$, and $1m$ irradiation intensity $I_0$.\n",
    "\n",
    "$$I(r, \\theta) = \\frac{I0}{r^2} \\cos^s (\\theta)$$"
   ]
  },
  {
   "cell_type": "markdown",
   "metadata": {},
   "source": [
    "## Methods\n",
    "\n",
    "### 1. Esc method\n",
    "\n",
    "> Moreno, I., Avendaño-Alejo, M., & Tzonchev, R. I. (2006). Designing light-emitting diode arrays for uniform near-field irradiance. Applied optics, 45(10), 2265-2272.\n",
    "\n",
    "This method is using expanded Sparrow's Criterion[^1]\n",
    "\n",
    "\n",
    "See\n",
    "[^1]: R. Barakat, “Application of apodization to increase two-point resolution by the sparrow criterion. i. coherent248 illumination,” J. Opt. Soc. Am. 52, 276–283 (1962)."
   ]
  }
 ],
 "metadata": {
  "language_info": {
   "name": "python"
  },
  "orig_nbformat": 4
 },
 "nbformat": 4,
 "nbformat_minor": 2
}
