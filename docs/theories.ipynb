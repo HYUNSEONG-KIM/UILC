{
 "cells": [
  {
   "cell_type": "code",
   "execution_count": 2,
   "metadata": {},
   "outputs": [],
   "source": [
    "import sys\n",
    "sys.path.append(\"..\")\n",
    "\n",
    "from src.uilc import *"
   ]
  },
  {
   "cell_type": "markdown",
   "metadata": {},
   "source": [
    "# Theories and Related routines\n",
    "\n",
    "The major goal of LEDs array design for target plane intensity uniformity is minimizing derivation of intensity with finite number of LEDs, by determining number of LEDs, minimizing LEDs array area, and maximzing average power of plane intensity. \n",
    "\n",
    "There are two major approaches in location determination, analytic methods and metaheuristic methods. This project implemented one of analytical method. improvement of method, and addtionnal heuristic methods based on fore two methods. Refered methods are described below texts.\n",
    "\n",
    "\n",
    "## Optical Model of LED\n",
    "\n",
    "The imperpect Lambertian model is commonly used for hemisphere lenz LED device and far field irradiation. With inverse-square law, optical model of LED can be represented with target-LED distance, $r$, viewing angle, $\\theta$, Lambertian coefficient, $s$, and $1m$ irradiation intensity $I_0$.\n",
    "\n",
    "$$I(r, \\theta) = \\frac{I_0}{r^2} \\cos^s (\\theta)$$\n",
    "\n",
    "## Initial Conditions of System\n",
    "\n",
    "* $s$: Optical model parameter: Lambertian coefficient.\n",
    "* $H$: Distance  between target plane and LED plane.\n",
    "* $W$ : Width of permitted area(Linear). \n",
    "* $W_1, W_2$: Widths of permitted area(Rectangular).\n"
   ]
  },
  {
   "cell_type": "markdown",
   "metadata": {},
   "source": [
    "## Methods\n",
    "\n",
    "### 1. Esc method\n",
    "\n",
    "> Moreno, I., Avendaño-Alejo, M., & Tzonchev, R. I. (2006). Designing light-emitting diode arrays for uniform near-field irradiance. Applied optics, 45(10), 2265-2272.\n",
    "\n",
    "This method is using expanded Sparrow's Criterion[^1]\n",
    "\n",
    "<table style=\"border-radius:8px;width:100%;\">\n",
    "<th style=\"text-align:center;background-color:rgb(0, 0, 0); color:white; border-top-left-radius: 10px;width:20%;\">\n",
    "Def</th>\n",
    "<th style=\"text-align:left;\">\n",
    "Sparrow Criterion </th>\n",
    "<tr style=\"text-align:center;\">\n",
    "<td colspan=\"2\">\n",
    "For two LEDs and superposition of those intensity function,\n",
    "\n",
    "$$I(t) = I(-d/2,t) + I(d/2,t)$$\n",
    "\n",
    "The maximum distance $d$ is yielded $\\frac{\\partial^2 I}{\\partial t^2}|_{t=0} = 0$.\n",
    "\n",
    "\n",
    "</td>\n",
    "</tr>\n",
    "<tr><td ></td> <td > Expended Sparrow Criterion</td></tr>\n",
    "<tr style=\"text-align:center;\">\n",
    "    <td colspan=\"2\">\n",
    "    \n",
    "For $N$ number of LEDs which are uniformly distributed with distance $d$ each other, the flat(or uniform) condition of intensity is \n",
    "\n",
    "$$\\frac{\\partial^2 I_N}{\\partial t^2}|_{t=0} = 0$$\n",
    "\n",
    "where, \n",
    "\n",
    "$$I_N (t) = \\sum_{i=1}^N I( (- \\frac{N}{2} + (i-1)) d, t)$$\n",
    "\n",
    "\n",
    "</td>\n",
    "</tr>\n",
    "</table>\n",
    "\n",
    "\n",
    "LEDs are uniformly distributed, their uniform distance $r$ is calculated from coefficient $d$ and distance between target plane and LED plane $h$.\n",
    "\n",
    "$$r = d \\cdot h$$\n",
    "\n",
    "Finding root of next equations for linear and rectangular array yield flat coefficient $d$.\n",
    "\n",
    "linear\n",
    "\n",
    "$$f(d) = \\sum_{n=1}^N \\frac{[1-(m+3)(N+1-2n)^2 (\\frac{d}{2})^2]}{[(N+1-2n)^2 (\\frac{d}{2})^2]^{(m+6)/2}}$$\n",
    "\n",
    "rectangular\n",
    "\n",
    "$$f(d) = \\sum_{i=1}^N \\sum_{j=1}^M  \\frac{\\{1-[(m+3)(N+1-2i)^2 -(M+1-2j)^2](\\frac{d}{2})^2\\})}{(\\{ [N+1-2i)^2 + (M+1-2j)^2](\\frac{d}{2})^2+1\\}^{(m+6)/2}}$$\n",
    "\n",
    "[^1]: R. Barakat, “Application of apodization to increase two-point resolution by the sparrow criterion. i. coherent248 illumination,” J. Opt. Soc. Am. 52, 276–283 (1962)."
   ]
  },
  {
   "cell_type": "markdown",
   "metadata": {},
   "source": [
    "#### Validation of implementated routines\n",
    "\n",
    "##### Linear Array\n",
    "\n",
    "Flat conditionn $d$ for two LEDs,\n",
    "\n",
    "$$d = \\sqrt{\\frac{4}{s+3}}$$\n",
    "\n",
    "$s = 80.7$ then, $d = 0.219$.\n"
   ]
  },
  {
   "cell_type": "code",
   "execution_count": 9,
   "metadata": {},
   "outputs": [
    {
     "data": {
      "text/plain": [
       "0.2186086119279843"
      ]
     },
     "execution_count": 9,
     "metadata": {},
     "output_type": "execute_result"
    }
   ],
   "source": [
    "esc.coefficient(80.7, 2, approx=True)"
   ]
  },
  {
   "cell_type": "markdown",
   "metadata": {},
   "source": [
    "For  $N =7$ and $ s = 80.7$,\n",
    "\n",
    "$$d = 0.135$$"
   ]
  },
  {
   "cell_type": "code",
   "execution_count": 3,
   "metadata": {},
   "outputs": [
    {
     "data": {
      "text/plain": [
       "0.13478354980171428"
      ]
     },
     "execution_count": 3,
     "metadata": {},
     "output_type": "execute_result"
    }
   ],
   "source": [
    "esc.coefficient(80.7, 7)"
   ]
  },
  {
   "cell_type": "markdown",
   "metadata": {},
   "source": [
    "For $N =4$ and $s = 64.66$,\n",
    "\n",
    "$$d = 0.189$$"
   ]
  },
  {
   "cell_type": "code",
   "execution_count": 4,
   "metadata": {},
   "outputs": [
    {
     "data": {
      "text/plain": [
       "0.1890009186203515"
      ]
     },
     "execution_count": 4,
     "metadata": {},
     "output_type": "execute_result"
    }
   ],
   "source": [
    "esc.coefficient(64.66, 4)"
   ]
  },
  {
   "cell_type": "markdown",
   "metadata": {},
   "source": [
    "**Approximation**\n",
    "\n",
    "For $N > 4$ and $s > 30$\n",
    "\n",
    "> **Note** I think this condition has errors. Mostly, it fits well when $N< 4, s<30$.\n",
    "\n",
    "$$d = \\sqrt{\\frac{3.2773}{s+4.2539}}$$"
   ]
  },
  {
   "cell_type": "code",
   "execution_count": 5,
   "metadata": {},
   "outputs": [
    {
     "name": "stdout",
     "output_type": "stream",
     "text": [
      "0.3084174233435047\n",
      "0.19358628934893632\n",
      "0.18654998378436424\n",
      "0.18654998378436424\n"
     ]
    }
   ],
   "source": [
    "s = 30.2\n",
    "N = 9\n",
    "print(esc.coefficient(s, N, approx=True))\n",
    "print(esc.coefficient(s,N, approx=False))\n",
    "s = 30\n",
    "N = 10\n",
    "print(esc.coefficient(s, N, approx=True))\n",
    "print(esc.coefficient(s,N, approx=False))"
   ]
  },
  {
   "cell_type": "markdown",
   "metadata": {},
   "source": [
    "##### Square Array\n",
    "\n",
    "For $2 \\times 2$ LEDs,\n",
    "\n",
    "$$d = \\sqrt{\\frac{4}{s+2}}$$"
   ]
  },
  {
   "cell_type": "code",
   "execution_count": 6,
   "metadata": {},
   "outputs": [
    {
     "name": "stdout",
     "output_type": "stream",
     "text": [
      "0.2773500981126146\n",
      "0.2773500981126146\n"
     ]
    }
   ],
   "source": [
    "print(esc.coefficient(50, N=2, M=2, shape=\"R\"))\n",
    "print(math.sqrt(4/(50+2)))"
   ]
  },
  {
   "cell_type": "markdown",
   "metadata": {},
   "source": [
    "For $N = M = 7$ and $s= 50$\n",
    "\n",
    "$$d= 0.17$$"
   ]
  },
  {
   "cell_type": "code",
   "execution_count": 7,
   "metadata": {},
   "outputs": [
    {
     "data": {
      "text/plain": [
       "0.17201102131586457"
      ]
     },
     "execution_count": 7,
     "metadata": {},
     "output_type": "execute_result"
    }
   ],
   "source": [
    "esc.coefficient(50, N=7, M=7, shape=\"R\")"
   ]
  },
  {
   "cell_type": "markdown",
   "metadata": {},
   "source": [
    "**Approximation**\n",
    "\n",
    "For larger than $4 \\times 4$ LEDs $N \\times M > 4 \\times  4$ and $s > 30$\n",
    "\n",
    "$$d = \\sqrt{\\frac{1.2125}{s-3.349}}$$"
   ]
  },
  {
   "cell_type": "code",
   "execution_count": 8,
   "metadata": {},
   "outputs": [
    {
     "name": "stdout",
     "output_type": "stream",
     "text": [
      "0.16121683647482485\n",
      "0.16121683647482485\n"
     ]
    }
   ],
   "source": [
    "print(esc.coefficient(50, N=7, M=7, shape=\"R\", approx=True))\n",
    "print(math.sqrt(1.2125/(50-3.349)))"
   ]
  },
  {
   "cell_type": "markdown",
   "metadata": {},
   "source": [
    "### 2. BC Matching\n",
    "\n",
    "Boundary Center Matching expansion method.\n",
    "\n",
    "$$I(\\theta, r) = I(H, s;x,t) = I_0 \\frac{H^m}{(H^2 + (x-t)^2)^(\\frac{s}{2}+1)}$$\n",
    "\n",
    "The difference function $Di(x)$ of two LEDs, located in center symmetry, intensity contribution between two points, center and boundary is defined as\n",
    "\n",
    "$$Di(x) : = (I(x, \\frac{W}{2} + I(-x, \\frac{W}{2})) - I(x,0) + I(-x,0))$$\n",
    "\n",
    "It can be nomailized to $D(\\alpha, d)$ with next equation.\n",
    "\n",
    "$$D(\\frac{W}{H}; \\frac{x}{H}) = \\frac{H^2}{I_0}Di(x)$$\n",
    "\n",
    "$x_e$ is a point that makes boundary and center contribution of LEDs same.\n",
    "\n",
    "$x_m$ is a point for center corresponding to $x=W/2$ for boundary. \n",
    "\n",
    "$$x_e = \\text{root}(D(d))*H$$\n",
    "$$x_m = \\text{root}(D(d)+D(\\alpha/2))*H$$\n",
    "\n",
    "$\\mathbf{P} := [0,x_m), \\mathbf{Q} := [x_m,x_e], \\mathbf{R} := (x_e, W/2]$\n",
    "\n",
    "For $x_q \\in \\mathbf{Q}$ and $x_r \\in \\mathbf{R}$, there exist $x'_r \\in \\mathbf{R}$ and $x'_q \\in \\mathbf{Q}$ such that,\n",
    "\n",
    "$$I_c(x_q) + I_c(x'_r) = I_b(x_q) + I_c(x'_r)$$\n",
    "$$I_c(x_r) + I_c(x'_q) = I_b(x_r) + I_c(x'_q)$$\n",
    "\n",
    "Then, for Esc array which consist of LEDs in $\\mathbf{Q}$ region in given area $W$, the LEDs of which the center and boundary intensity contributions are same can be found.\n",
    "\n",
    "$$\\{\\overbrace{x_1, x_2, ... , x_{m-1} }^\\mathbf{Q}, \\underbrace{x_m ,...,x_{n-1} x_n}_\\mathbf{R}\\}$$\n",
    "\n",
    "\n",
    "$$\\sum_{i=1}^n I_c (x_i) = \\sum_{i=1}^n I_b (x_i) $$\n",
    "\n",
    "Practical approximation are next equations.\n",
    "\n",
    "$$x_m = (\\sqrt{2^{\\frac{2}{s+2}}-1}) \\cdot H$$\n",
    "$$x_e = (\\frac{1}{6}d_m + \\frac{1}{4}\\alpha) \\cdot H$$\n",
    "\n",
    "These are assumed as initial guessing in finding algorithm. "
   ]
  },
  {
   "cell_type": "markdown",
   "metadata": {},
   "source": [
    "### 3. Integral Equation solve(Direct Solve)\n",
    "\n",
    "Using a Dirac delta function the location of LEDs can be expressed as distribution function $\\sigma(x,y)$\n",
    "\n",
    "$$\\sigma(x,y) = \\sum_{i=1}^{N \\times M} \\delta(x-x_i, y-y_i) $$\n",
    "\n",
    "Since, it is a distribution function, next property is established.\n",
    "\n",
    "$$\\sigma(x,y) \\geq 0$$\n",
    "\n",
    "$$N \\times M = \\int_{-\\frac{W_y}{2}}^{\\frac{W_y}{2}} \\int_{-\\frac{W_x}{2}}^{\\frac{W_x}{2}} \\sigma(x,y) \\, dx dy$$\n",
    "\n",
    "\n",
    "Restricting dimension to $1-$ dim, and using intensity function $K(x,t) := I(x,t)$ as kernel function. Target plane intensity $I_{tar}(t)$ is calculated with integral equation.\n",
    "\n",
    "$$I_{tar}(t) = \\int_{-\\frac{W}{2}}^{\\frac{W}{2}} K(x,t) \\sigma(x) \\, dx$$\n",
    "\n",
    "It is a Fredholem integral equation of first kind. There are several appeoaches to solve integral equation but this kernel is a case that those approaches can solve at least in my knowledge.\n",
    "\n",
    "Practical method is discretizing system and solve linear system.\n",
    "\n",
    "For $n$ sample points and $\\Delta = \\frac{W}{n}$,\n",
    "\n",
    "$$\\mathbf{K}_{ij} := K(\\Delta i, \\Delta j)$$\n",
    "\n",
    "\n",
    "$$\\mathbf{K} \\vec{\\sigma} = \\lambda \\vec{\\mathcal{1}}$$\n",
    "\n",
    "$\\mathbf{K}$ is a bisymmetric matrix and by M.Kaykobad Theory, it is invertible and has a positive solution with next conditions.\n",
    "\n",
    "$$1> \\sum_{i=1, i \\neq j}^{n} \\frac{\\mathbf{K}_{ij}}{\\mathbf{K}_{ii}}$$\n",
    "\n",
    "$max(n)$ satisfies above condition can be approximated with $n_{app}$.\n",
    "\n",
    "For $\\Delta_n = \\frac{W}{Hn}$, $K_N(H;x) = \\frac{K(x,0)}{K(0,0)}$\n",
    "\n",
    "$$2\\int_{\\frac{W}{2Hn}}^{\\frac{W}{2H}} K_N(x) \\, dx\\geq \\sum_{i=1, i\\neq j}^n K_N(|i-j|\\Delta_n) \\Delta_n$$\n",
    "\n",
    "$$n_{app} = \\lfloor \\frac{1+ 2 {}_2F_1(1/2, \\frac{s+2}{2}, 3/2; - (\\frac{W}{2Hn_{app}})^2)}{{}_2F_1(1/2, \\frac{s+2}{2}, 3/2; - (\\frac{W}{2H})^2)} \\rfloor$$\n",
    "\n",
    "As $n$ increases, Hypergeometric fuction will converge near $max(n)$.\n",
    "\n",
    "\n",
    "\n",
    "$$n_{app} = \\lfloor \\frac{3}{{}_2F_1(1/2, \\frac{s+2}{2}, 3/2; - (\\frac{W}{2H})^2)} \\rfloor$$\n",
    "\n",
    "\n",
    "Real therhold value $max(n)$  is near $n_{app}$ and M.Kaykobad's Thm condition is not describing threshold level condition of postive to negative solution. Real $max(n)$ is usually bigger than M.Kaykobad's condition $n$. \n",
    "\n",
    "Solution of system does not satisfy second distribution condtion because the $\\lambda$ value is omitted in calculation. Therefore, normalization process is needed. The normalization factor $\\lambda_N$ is using approximation value $n_{LED}$. Practically, the bc method solution LED number is used for $n_{LED}$ value.\n",
    "\n",
    "$$\\lambda_{N} = \\frac{n_{LED} \\cdot n_{max}}{W \\sum_{i=1}^{n_{max}} \\sigma_i}$$\n",
    "\n",
    "$$\\mathbf{\\sigma}_{sol} =  \\lambda_{N} \\mathbf{\\sigma}$$\n",
    "\n",
    "Final array finding is decribed in Binarization of distribution vector \n"
   ]
  },
  {
   "cell_type": "markdown",
   "metadata": {},
   "source": [
    "### 4. Integral Equation solve(NNLS)\n",
    "\n",
    "It is using Non-Negative least square method for finding distrubtion vector. It can use increase number of samples for precise result.\n",
    "\n",
    "In NNLS result, the number of LED $n_{LED}$ can be assumed directly from solution its number of extrem values $+2$ is the $n_{LED}."
   ]
  },
  {
   "cell_type": "markdown",
   "metadata": {},
   "source": [
    "## Binarization of distribution vector \n",
    "\n",
    "The Dirac-Delta function can be approximated with normal distribution function.\n",
    "\n",
    "$$\\delta(x) \\approx \\frac{1}{h\\sqrt{2 \\pi}} \\exp(- \\frac{x^2}{2 h^2})$$\n",
    "\n",
    "$$N (h, x_0 ; x) := \\frac{1}{h \\sqrt{2 \\pi}} \\exp(- \\frac{(x-x_0)^2}{2 h^2})$$\n",
    "\n",
    "$h$ is standard derivation of distribution but also it is a bandwidth of normal kernel. In kernel density estimation, bandwidth is a free parameter for estimating unkown density function. \n",
    "\n",
    "In this calculation this bandwidth depends on discretizing sample number $n_{sam}$. The geometrical space is divided $n_{sam}$ so that bandwidth $h$ is defined\n",
    "\n",
    "$$h = \\frac{W}{2 n_{sam} \\cdot k}$$\n",
    "\n",
    "Emprical value of $k$ is \n",
    "\n",
    "$$k= \\sqrt{2} \\cdot 0.9$$\n",
    "\n",
    "$$\\sigma(x) = \\sum_{i=1}^{N \\times M} \\delta(x-x_i) \\approx \\sum_{i=1}^{N \\times M} N (h, x_i ; x) $$\n",
    "\n",
    "With direct solve and nnls solution vector $\\mathbf{\\sigma}_{sol}$ are sample points for optimization of $\\{x_i \\}_{i=1}^{N \\times M}$ for $\\sum_{i=1}^{N \\times M} N (h, x_i ; x)$. This calculation uses least square method.\n",
    "\n"
   ]
  },
  {
   "cell_type": "markdown",
   "metadata": {},
   "source": [
    "### Brief Introduction of Least square method in Scipy\n",
    "\n",
    "**Least Square Method** is a standard approach in regression analysis to approximate the solution with minimizing the sum of the squares of the residuals. Residual is the difference between an observed value and the fitted value. \n",
    "\n",
    "For fitting function $f$ with parameter $\\pmb{\\beta} = \\beta_1, \\beta_2, \\dots, \\beta_n$ and the observed data $[(x_1, y_1), (x_2, y_2), (x_3, y_3), (x_4, y_4), \\dots, (x_m, y_m)]$, the residual of $i$-th is defined as \n",
    "\n",
    "$$r_i = y_i - f(x_i, \\pmb{\\beta})$$\n",
    "\n",
    "Object of least square method is minimizing the sum of squared residuals $S$\n",
    "\n",
    "$$S = \\sum_{i=1}^m r_i^2$$\n",
    "\n",
    "Scipy library provides various types of function to solve optimizing problems.\n",
    "All of them are user friendly api of next function `least_squares`. It is a primitive implementation of \n",
    "least square algorithm.\n",
    "\n",
    "`scipy.optimize.least_squares`\n",
    "\n",
    "|Arguments|Description|\n",
    "|:--|:--|\n",
    "|`func`|Callable function that computes residuals with the signature `func(x, *args, **kwargs)`. `x` passed to this function is an ndarray of shpae `(n,)`. It must return a 1-D array-like of shape `(m,)` or a scalar.  That is, `func( x = `$\\pmb{\\beta}$,  `args =(xdata, ydata)` `)` $= \\pmb{r} = \\pmb{y} - f(\\pmb{x}, \\pmb{\\beta})$|\n",
    "|`x0`|Initial guess on independent variables.|\n",
    "|`args, kwargs`|tuple and dictionary of additional arguments passed to `func(x, *args, **kwargs)`|\n",
    "\n",
    "There are various optional arguments in `least_squares` function. The above table is just a brief description of used arguments in below codes"
   ]
  },
  {
   "cell_type": "markdown",
   "metadata": {},
   "source": [
    "# Further Reading\n",
    "\n",
    "## Metaheuristic methods\n",
    "\n",
    "This project did not cover metaheuristic methods but those are worth to see.\n",
    "\n",
    "The examples of metaheuristic methods are\n",
    "\n",
    "* Stimulated Annealing \n",
    "* Genetic Algorithm\n",
    "* Local Search\n",
    "* Particle Swarm Optimization.\n",
    "\n",
    "See details of above methods in next papers\n",
    "\n",
    "* Z. Su, D. Xue, and Z. Ji, “Designing led array for uniform illumination distribution by simulated annealing algorithm,”257 Opt. Express 20, A843–A855 (2012).\n",
    "* S. Pal, “Optimization of led array for uniform illumination over a target plane by evolutionary programming,” Appl.259 Opt. 54, 8221–8227 (2015).\n",
    "* P. Lei, Q. Wag, and H. Zou, “Designing led array for uniform illumination based on local search algorithm,” JEOS:RP2619 (2014).\n",
    "* . Yu, X. Wei, O. Zhang, and X. Zhang, “Research on illumination uniformity of high-power led array light source,”263 in AIP Conference Proceedings, vol. 1971 (AIP Publishing LLC, 2018), p. 050019."
   ]
  }
 ],
 "metadata": {
  "interpreter": {
   "hash": "d2f2b8553e80ffe0d2771fe61a9a972175abc5a314e690db82a6e5f11d92afee"
  },
  "kernelspec": {
   "display_name": "Python 3.9.12 ('TPMS')",
   "language": "python",
   "name": "python3"
  },
  "language_info": {
   "codemirror_mode": {
    "name": "ipython",
    "version": 3
   },
   "file_extension": ".py",
   "mimetype": "text/x-python",
   "name": "python",
   "nbconvert_exporter": "python",
   "pygments_lexer": "ipython3",
   "version": "3.9.12"
  },
  "orig_nbformat": 4
 },
 "nbformat": 4,
 "nbformat_minor": 2
}
