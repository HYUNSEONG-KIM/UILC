{
 "cells": [
  {
   "attachments": {},
   "cell_type": "markdown",
   "metadata": {},
   "source": [
    "## Application to Design LCD back light unit"
   ]
  },
  {
   "attachments": {},
   "cell_type": "markdown",
   "metadata": {},
   "source": [
    "One good thing is that this library solution provide good array formation for general $\\alpha = W/H$ value.\n",
    "Even the extreamly large $\\alpha$ value, you can divide them to several sub-$\\alpha_n$ cases.\n",
    "\n",
    "$W_p  = n_s \\cdot W_s + (n_s+1)\\cdot d_w$\n",
    "\n",
    "$d_w$ := distance between two boundary LEDs of unit $W_s$.\n",
    "\n",
    "For example, if $n_s = 3$,\n",
    "\n",
    "$$B_p, d_w,  W_{s1}, d_w, W_{s2}, d_w, W_{s3}, d_w, B_p$$"
   ]
  },
  {
   "cell_type": "markdown",
   "metadata": {},
   "source": []
  },
  {
   "cell_type": "code",
   "execution_count": null,
   "metadata": {},
   "outputs": [],
   "source": []
  }
 ],
 "metadata": {
  "kernelspec": {
   "display_name": "uilc",
   "language": "python",
   "name": "python3"
  },
  "language_info": {
   "name": "python",
   "version": "3.10.4"
  },
  "orig_nbformat": 4,
  "vscode": {
   "interpreter": {
    "hash": "195bc89084d6cbe85b4b0fc9b0001b42e835d7f13938cce061bfbc6c7d4a005e"
   }
  }
 },
 "nbformat": 4,
 "nbformat_minor": 2
}
