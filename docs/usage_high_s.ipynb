{
 "cells": [
  {
   "cell_type": "code",
   "execution_count": 1,
   "metadata": {},
   "outputs": [],
   "source": [
    "import sys\n",
    "sys.path.append(\"..\")\n",
    "\n",
    "from src import uilc\n",
    "import numpy as np\n",
    "import math\n",
    "import matplotlib.pyplot as plt"
   ]
  },
  {
   "cell_type": "code",
   "execution_count": null,
   "metadata": {},
   "outputs": [],
   "source": [
    "s = 60\n",
    "W = 0.2\n",
    "H = 0.05\n",
    "\n",
    "# Plot value\n",
    "xline = np.linspace(-W/2, W/2 , 400)\n",
    "yline = np.linspace(-W/2, W/2 , 400)\n",
    "X, Y = np.meshgrid(xline, yline)"
   ]
  },
  {
   "cell_type": "code",
   "execution_count": null,
   "metadata": {},
   "outputs": [],
   "source": [
    "esc_n = uilc.esc.get_nmax(s, W, H)\n",
    "esc_d = uilc.esc.coefficient(s ,esc_n) * H\n",
    "esc_arr = uilc.utils.uniformarray(esc_d, esc_n) \n",
    "esc_arr_s = uilc.utils.get_2d_array(esc_arr, esc_arr, dim=2)"
   ]
  },
  {
   "cell_type": "code",
   "execution_count": null,
   "metadata": {},
   "outputs": [],
   "source": [
    "esc_intensity = uilc.utils.lambertian_distribution(xline, np.array([[[0]]]), esc_arr, s, H)\n",
    "esc_y = esc_intensity[0][0]\n",
    "esc_y = esc_y/esc_y.max()\n",
    "plt.plot(xline, esc_y, label=\"intensity of esc method\")\n",
    "plt.axhline(y=esc_y.mean(), color='b', label=\"Mean Value:{}\".format(esc_y.mean()))\n",
    "plt.ylim(0, 1.2)\n",
    "plt.legend()\n",
    "plt.show()"
   ]
  }
 ],
 "metadata": {
  "interpreter": {
   "hash": "c428d4300b96006bd89c7861a64ca1379b2ef13eb8daabe066e18431431e18b4"
  },
  "kernelspec": {
   "display_name": "Python 3.9.12 64-bit",
   "language": "python",
   "name": "python3"
  },
  "language_info": {
   "codemirror_mode": {
    "name": "ipython",
    "version": 3
   },
   "file_extension": ".py",
   "mimetype": "text/x-python",
   "name": "python",
   "nbconvert_exporter": "python",
   "pygments_lexer": "ipython3",
   "version": "3.9.12"
  },
  "orig_nbformat": 4
 },
 "nbformat": 4,
 "nbformat_minor": 2
}
